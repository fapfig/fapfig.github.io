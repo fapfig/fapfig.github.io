{
 "cells": [
  {
   "cell_type": "markdown",
   "id": "2d838954-a941-4b20-b334-cdf6fb972ba4",
   "metadata": {
    "tags": []
   },
   "source": [
    "In this post we will use the following libraries:\n",
    "\n",
    "[ipython-tikzmagic](https://github.com/mkrphys/ipython-tikzmagic) \n",
    "\n",
    "Install using PIP:\n",
    "\n",
    "`pip install git+git://github.com/mkrphys/ipython-tikzmagic.git`\n",
    "\n",
    "Install using [Anaconda](https://anaconda.org/conda-forge/tikzmagic):\n",
    "\n",
    "`conda install -c conda-forge tikzmagic`"
   ]
  },
  {
   "cell_type": "code",
   "execution_count": 10,
   "id": "317b9051-9ca5-4127-be2b-0f15de674b17",
   "metadata": {
    "tags": []
   },
   "outputs": [
    {
     "name": "stdout",
     "output_type": "stream",
     "text": [
      "The tikzmagic extension is already loaded. To reload it, use:\n",
      "  %reload_ext tikzmagic\n"
     ]
    }
   ],
   "source": [
    "import math \n",
    "import numpy as np\n",
    "from anastruct.fem.system import SystemElements\n",
    "import matplotlib.pyplot as plt\n",
    "%matplotlib inline\n",
    "\n",
    "%load_ext tikzmagic"
   ]
  },
  {
   "cell_type": "code",
   "execution_count": 13,
   "id": "2b3d4136-fde2-4299-99cb-02dfd8c9cde4",
   "metadata": {},
   "outputs": [
    {
     "name": "stderr",
     "output_type": "stream",
     "text": [
      "LaTeX terminated with signal -1\n",
      "No log file generated.\n",
      "No image generated.\n"
     ]
    }
   ],
   "source": [
    "%tikz \\draw (0,0) rectangle (1,1);"
   ]
  },
  {
   "cell_type": "code",
   "execution_count": null,
   "id": "059dd7ce-8436-46d1-a9d0-af203ba3c849",
   "metadata": {},
   "outputs": [],
   "source": []
  }
 ],
 "metadata": {
  "kernelspec": {
   "display_name": "Python 3",
   "language": "python",
   "name": "python3"
  },
  "language_info": {
   "codemirror_mode": {
    "name": "ipython",
    "version": 3
   },
   "file_extension": ".py",
   "mimetype": "text/x-python",
   "name": "python",
   "nbconvert_exporter": "python",
   "pygments_lexer": "ipython3",
   "version": "3.8.8"
  }
 },
 "nbformat": 4,
 "nbformat_minor": 5
}
