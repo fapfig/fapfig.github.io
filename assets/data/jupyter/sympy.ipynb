{
 "cells": [
  {
   "cell_type": "markdown",
   "id": "a952cc9c-9007-434a-a196-8db00a5c1cd1",
   "metadata": {},
   "source": [
    "# Introduction to SymPy\n",
    "\n",
    "[SymPy](https://www.sympy.org) is a Python library for symbolic mathematics. It aims to become a full-featured computer algebra system (CAS) while keeping the code as simple as possible in order to be comprehensible and easily extensible."
   ]
  },
  {
   "cell_type": "code",
   "execution_count": 2,
   "id": "4e49986e-8151-416a-a9a9-3ddc74b12e08",
   "metadata": {},
   "outputs": [],
   "source": [
    "from sympy import* \n",
    "\n",
    "x, y, z = symbols(\"x, y, z\", real=True)\n",
    "init_printing(use_latex=\"mathjax\")"
   ]
  },
  {
   "cell_type": "markdown",
   "id": "e16e322e-2e00-4b7d-8c2f-990f44a80640",
   "metadata": {},
   "source": [
    "## Solve"
   ]
  },
  {
   "cell_type": "markdown",
   "id": "2599208c-87e8-46c2-b8fa-5f137a4fa275",
   "metadata": {},
   "source": [
    "$$ x - 2 = 4$$"
   ]
  },
  {
   "cell_type": "code",
   "execution_count": 6,
   "id": "5181b9e2-e621-4fa3-b01f-f88711e88dcf",
   "metadata": {},
   "outputs": [
    {
     "data": {
      "text/latex": [
       "$\\displaystyle \\left[ 6\\right]$"
      ],
      "text/plain": [
       "[6]"
      ]
     },
     "execution_count": 6,
     "metadata": {},
     "output_type": "execute_result"
    }
   ],
   "source": [
    "solve(Eq(x-2,4),x)"
   ]
  },
  {
   "cell_type": "markdown",
   "id": "76228c92-2f6b-439a-9440-e9adc5dcebc4",
   "metadata": {},
   "source": [
    "$$ (x-3)(x-1) = 0 $$\n",
    "\n",
    "If the argument of the solve function does not contain the word \"Eq\", thus SymPy will assume that the equation is equal to zero."
   ]
  },
  {
   "cell_type": "code",
   "execution_count": 10,
   "id": "a3bfd65f-ff11-4a96-a979-57793a948cf4",
   "metadata": {},
   "outputs": [
    {
     "data": {
      "text/latex": [
       "$\\displaystyle \\left[ 2, \\  3\\right]$"
      ],
      "text/plain": [
       "[2, 3]"
      ]
     },
     "execution_count": 10,
     "metadata": {},
     "output_type": "execute_result"
    }
   ],
   "source": [
    "solve((x-3)*(x-2),x)"
   ]
  },
  {
   "cell_type": "markdown",
   "id": "5856453d-d404-4615-9560-b73e216adfc1",
   "metadata": {},
   "source": [
    "$$ 5x^2 + 6x + 1 = 0 $$"
   ]
  },
  {
   "cell_type": "code",
   "execution_count": 11,
   "id": "ccc0e0a9-39b4-4291-97d1-5e12114ced2a",
   "metadata": {},
   "outputs": [
    {
     "data": {
      "text/latex": [
       "$\\displaystyle \\left[ -1, \\  - \\frac{1}{5}\\right]$"
      ],
      "text/plain": [
       "[-1, -1/5]"
      ]
     },
     "execution_count": 11,
     "metadata": {},
     "output_type": "execute_result"
    }
   ],
   "source": [
    "solve(5*x**2 + 6*x + 1, x)"
   ]
  },
  {
   "cell_type": "markdown",
   "id": "4df85357-0c3a-484f-b495-aa575ee6f9e0",
   "metadata": {},
   "source": [
    " $$\\begin{cases}  2x+4y=22\\\\−2x+2y=2\\end{cases}$$"
   ]
  },
  {
   "cell_type": "code",
   "execution_count": 14,
   "id": "1b9e324c-a3c5-4be3-b1d3-2e53e1c9e12c",
   "metadata": {},
   "outputs": [
    {
     "data": {
      "text/latex": [
       "$\\displaystyle \\left\\{ x : 3, \\  y : 4\\right\\}$"
      ],
      "text/plain": [
       "{x: 3, y: 4}"
      ]
     },
     "execution_count": 14,
     "metadata": {},
     "output_type": "execute_result"
    }
   ],
   "source": [
    "solve([Eq(2*x+4*y, 22), Eq(-2*x+2*y, 2)], [x,y])"
   ]
  },
  {
   "cell_type": "code",
   "execution_count": 15,
   "id": "896322f4-2e4e-411e-9bb7-8f483d0b729e",
   "metadata": {},
   "outputs": [
    {
     "data": {
      "text/latex": [
       "$\\displaystyle \\left\\{ x : 3, \\  y : 4\\right\\}$"
      ],
      "text/plain": [
       "{x: 3, y: 4}"
      ]
     },
     "execution_count": 15,
     "metadata": {},
     "output_type": "execute_result"
    }
   ],
   "source": [
    "solve([2*x+4*y-22, -2*x+2*y-2], [x,y])"
   ]
  },
  {
   "cell_type": "markdown",
   "id": "7ff43ab4-9cbe-45ce-9a95-d0c1bd3a16d2",
   "metadata": {},
   "source": [
    "## Derivatives"
   ]
  },
  {
   "cell_type": "markdown",
   "id": "99726340-ae77-4cfd-8b3f-085d35ca45f6",
   "metadata": {},
   "source": [
    "To take derivatives, use the `diff` function."
   ]
  },
  {
   "cell_type": "markdown",
   "id": "55a8bc7a-c9de-42cf-a20b-f7cf4b10e182",
   "metadata": {},
   "source": [
    "$$y=cos(x)$$"
   ]
  },
  {
   "cell_type": "code",
   "execution_count": 42,
   "id": "1139f757-b687-4f96-9333-d8445ded9298",
   "metadata": {},
   "outputs": [
    {
     "data": {
      "text/latex": [
       "$\\displaystyle - \\sin{\\left(x \\right)}$"
      ],
      "text/plain": [
       "-sin(x)"
      ]
     },
     "execution_count": 42,
     "metadata": {},
     "output_type": "execute_result"
    }
   ],
   "source": [
    "diff(cos(x), x)"
   ]
  },
  {
   "cell_type": "markdown",
   "id": "dd4f04e4-a1bc-46b4-bacb-9e26bab6b68f",
   "metadata": {},
   "source": [
    "`diff` can take multiple derivatives at once. To take multiple derivatives, pass the variable as many times as you wish to differentiate, or pass a number after the variable. For example, both of the following find the third derivative of $x^4$."
   ]
  },
  {
   "cell_type": "code",
   "execution_count": 44,
   "id": "d3fa7a97-a997-405e-8af3-ef6c90d96df0",
   "metadata": {},
   "outputs": [
    {
     "data": {
      "text/latex": [
       "$\\displaystyle 24 x$"
      ],
      "text/plain": [
       "24⋅x"
      ]
     },
     "execution_count": 44,
     "metadata": {},
     "output_type": "execute_result"
    }
   ],
   "source": [
    "diff(x**4, x, x, x)"
   ]
  },
  {
   "cell_type": "code",
   "execution_count": 45,
   "id": "b769acf1-fd3b-44ba-bd18-8bacc39fa2f2",
   "metadata": {},
   "outputs": [
    {
     "data": {
      "text/latex": [
       "$\\displaystyle 24 x$"
      ],
      "text/plain": [
       "24⋅x"
      ]
     },
     "execution_count": 45,
     "metadata": {},
     "output_type": "execute_result"
    }
   ],
   "source": [
    "diff(x**4, x, 3)"
   ]
  },
  {
   "cell_type": "markdown",
   "id": "c0ff312e-a6c7-452f-bafa-04742943a7ba",
   "metadata": {},
   "source": [
    "You can also take derivatives with respect to many variables at once. Just pass each derivative in order, using the same syntax as for single variable derivatives. For example, each of the following will compute \n",
    " \n",
    "$$\\frac{\\partial^7}{\\partial x \\partial y^2 \\partial z^4} e^{xyz}$$"
   ]
  },
  {
   "cell_type": "code",
   "execution_count": 47,
   "id": "b350fd0f-1460-48a6-8619-620b2e0e5733",
   "metadata": {},
   "outputs": [
    {
     "data": {
      "text/latex": [
       "$\\displaystyle x^{3} y^{2} \\left(x^{3} y^{3} z^{3} + 14 x^{2} y^{2} z^{2} + 52 x y z + 48\\right) e^{x y z}$"
      ],
      "text/plain": [
       " 3  2 ⎛ 3  3  3       2  2  2                ⎞  x⋅y⋅z\n",
       "x ⋅y ⋅⎝x ⋅y ⋅z  + 14⋅x ⋅y ⋅z  + 52⋅x⋅y⋅z + 48⎠⋅ℯ     "
      ]
     },
     "execution_count": 47,
     "metadata": {},
     "output_type": "execute_result"
    }
   ],
   "source": [
    "expr = exp(x*y*z)\n",
    "diff(expr, x, y, y, z, z, z, z)"
   ]
  },
  {
   "cell_type": "code",
   "execution_count": 48,
   "id": "984b7684-7fe8-424f-91b4-2061b0fe12b0",
   "metadata": {},
   "outputs": [
    {
     "data": {
      "text/latex": [
       "$\\displaystyle x^{3} y^{2} \\left(x^{3} y^{3} z^{3} + 14 x^{2} y^{2} z^{2} + 52 x y z + 48\\right) e^{x y z}$"
      ],
      "text/plain": [
       " 3  2 ⎛ 3  3  3       2  2  2                ⎞  x⋅y⋅z\n",
       "x ⋅y ⋅⎝x ⋅y ⋅z  + 14⋅x ⋅y ⋅z  + 52⋅x⋅y⋅z + 48⎠⋅ℯ     "
      ]
     },
     "execution_count": 48,
     "metadata": {},
     "output_type": "execute_result"
    }
   ],
   "source": [
    "diff(expr, x, y, 2, z, 4)"
   ]
  },
  {
   "cell_type": "code",
   "execution_count": 49,
   "id": "0fa00fa3-efd5-4a64-884d-41804756a882",
   "metadata": {},
   "outputs": [
    {
     "data": {
      "text/latex": [
       "$\\displaystyle x^{3} y^{2} \\left(x^{3} y^{3} z^{3} + 14 x^{2} y^{2} z^{2} + 52 x y z + 48\\right) e^{x y z}$"
      ],
      "text/plain": [
       " 3  2 ⎛ 3  3  3       2  2  2                ⎞  x⋅y⋅z\n",
       "x ⋅y ⋅⎝x ⋅y ⋅z  + 14⋅x ⋅y ⋅z  + 52⋅x⋅y⋅z + 48⎠⋅ℯ     "
      ]
     },
     "execution_count": 49,
     "metadata": {},
     "output_type": "execute_result"
    }
   ],
   "source": [
    "diff(expr, x, y, y, z, 4)"
   ]
  },
  {
   "cell_type": "markdown",
   "id": "8747161a-1c7a-49b0-8d60-3c3156090f0f",
   "metadata": {},
   "source": [
    "To print the derivative, use the `Derivative` class."
   ]
  },
  {
   "cell_type": "code",
   "execution_count": 50,
   "id": "386d7370-31cb-4f2d-8c65-7efe64aeb80b",
   "metadata": {},
   "outputs": [
    {
     "data": {
      "text/latex": [
       "$\\displaystyle \\frac{\\partial^{7}}{\\partial z^{4}\\partial y^{2}\\partial x} e^{x y z}$"
      ],
      "text/plain": [
       "     7            \n",
       "    ∂     ⎛ x⋅y⋅z⎞\n",
       "──────────⎝ℯ     ⎠\n",
       "  4   2           \n",
       "∂z  ∂y  ∂x        "
      ]
     },
     "execution_count": 50,
     "metadata": {},
     "output_type": "execute_result"
    }
   ],
   "source": [
    "Derivative(expr, x, y, y, z, 4)"
   ]
  },
  {
   "cell_type": "markdown",
   "id": "01f6c73e-6a66-4815-99fb-8e8c6cbafc3e",
   "metadata": {},
   "source": [
    "## Integrals"
   ]
  },
  {
   "cell_type": "markdown",
   "id": "18e99839-ebd9-4e3e-a7ca-c68dfd6bb668",
   "metadata": {},
   "source": [
    "$\\displaystyle \\int (x-2)\\ dx$"
   ]
  },
  {
   "cell_type": "markdown",
   "id": "b8c4a257-53e0-4230-bde3-0a3f285302d7",
   "metadata": {},
   "source": [
    "To compute this integral, use the `integrate` function. "
   ]
  },
  {
   "cell_type": "code",
   "execution_count": 28,
   "id": "a71c94c9-35d3-4609-89e1-3c232ba322c1",
   "metadata": {},
   "outputs": [
    {
     "data": {
      "text/latex": [
       "$\\displaystyle \\frac{x^{2}}{2} - 2 x$"
      ],
      "text/plain": [
       " 2      \n",
       "x       \n",
       "── - 2⋅x\n",
       "2       "
      ]
     },
     "execution_count": 28,
     "metadata": {},
     "output_type": "execute_result"
    }
   ],
   "source": [
    "f = x-2\n",
    "\n",
    "integrate(f)"
   ]
  },
  {
   "cell_type": "markdown",
   "id": "a209c83d-7619-4dea-b540-c5be13e08a5d",
   "metadata": {},
   "source": [
    "Use the command `Integral` to print an integral."
   ]
  },
  {
   "cell_type": "code",
   "execution_count": 30,
   "id": "3adfb04c-b3cf-4535-8a93-8d0773f9a896",
   "metadata": {},
   "outputs": [
    {
     "data": {
      "text/latex": [
       "$\\displaystyle \\int \\left(x - 2\\right)\\, dx$"
      ],
      "text/plain": [
       "⌠           \n",
       "⎮ (x - 2) dx\n",
       "⌡           "
      ]
     },
     "execution_count": 30,
     "metadata": {},
     "output_type": "execute_result"
    }
   ],
   "source": [
    "Integral(f,x)"
   ]
  },
  {
   "cell_type": "code",
   "execution_count": 34,
   "id": "7bdc7f9c-4335-4fdb-bf90-f40630c4e784",
   "metadata": {},
   "outputs": [
    {
     "data": {
      "text/latex": [
       "$\\displaystyle x \\log{\\left(x \\right)}^{2} - 2 x \\log{\\left(x \\right)} + 2 x$"
      ],
      "text/plain": [
       "     2                      \n",
       "x⋅log (x) - 2⋅x⋅log(x) + 2⋅x"
      ]
     },
     "execution_count": 34,
     "metadata": {},
     "output_type": "execute_result"
    }
   ],
   "source": [
    "expr = Integral(log(x)**2, x)\n",
    "expr"
   ]
  },
  {
   "cell_type": "markdown",
   "id": "7aafcafd-406e-4c9f-b290-14c9465cb90c",
   "metadata": {},
   "source": [
    "To later evaluate the integral, call `doit`."
   ]
  },
  {
   "cell_type": "code",
   "execution_count": 35,
   "id": "cbb4a69a-83c9-43f0-aeca-c426a0abaedf",
   "metadata": {},
   "outputs": [
    {
     "data": {
      "text/latex": [
       "$\\displaystyle x \\log{\\left(x \\right)}^{2} - 2 x \\log{\\left(x \\right)} + 2 x$"
      ],
      "text/plain": [
       "     2                      \n",
       "x⋅log (x) - 2⋅x⋅log(x) + 2⋅x"
      ]
     },
     "execution_count": 35,
     "metadata": {},
     "output_type": "execute_result"
    }
   ],
   "source": [
    "expr.doit()"
   ]
  },
  {
   "cell_type": "markdown",
   "id": "32281b80-ee9d-4b00-bd11-706b6c23f83d",
   "metadata": {},
   "source": [
    "To compute a definite integral, pass the argument (integration_variable, lower_limit, upper_limit). For example, to compute"
   ]
  },
  {
   "cell_type": "markdown",
   "id": "f1812ccb-a7ef-4bdf-a8ba-e46fdcf9ac92",
   "metadata": {},
   "source": [
    "$$\\int_{0}^{oo}e^{-x} dx$$"
   ]
  },
  {
   "cell_type": "code",
   "execution_count": 39,
   "id": "15b03da9-45f0-4bab-8558-54654eeebe56",
   "metadata": {},
   "outputs": [
    {
     "data": {
      "text/latex": [
       "$\\displaystyle 1$"
      ],
      "text/plain": [
       "1"
      ]
     },
     "execution_count": 39,
     "metadata": {},
     "output_type": "execute_result"
    }
   ],
   "source": [
    "integrate(exp(-x), (x, 0, oo))"
   ]
  },
  {
   "cell_type": "markdown",
   "id": "179e6784-eb8a-4da7-88c5-4b663054ed6d",
   "metadata": {},
   "source": [
    "As with indefinite integrals, you can pass multiple limit tuples to perform a multiple integral. For example, to compute"
   ]
  },
  {
   "cell_type": "markdown",
   "id": "83e1ec97-872b-45e5-84c9-4a9310df4c45",
   "metadata": {},
   "source": [
    "$$ \\int_{-oo}^{oo}e^{-x^2-y^2} dx dy $$"
   ]
  },
  {
   "cell_type": "code",
   "execution_count": 40,
   "id": "f48e48a1-bf82-4b1e-87da-79b7fc42cc62",
   "metadata": {},
   "outputs": [
    {
     "data": {
      "text/latex": [
       "$\\displaystyle \\pi$"
      ],
      "text/plain": [
       "π"
      ]
     },
     "execution_count": 40,
     "metadata": {},
     "output_type": "execute_result"
    }
   ],
   "source": [
    "integrate(exp(-x**2 - y**2), (x, -oo, oo), (y, -oo, oo))"
   ]
  },
  {
   "cell_type": "markdown",
   "id": "1b477a54-a987-4d94-9238-fd84e2ba6d8c",
   "metadata": {},
   "source": [
    "## References"
   ]
  },
  {
   "cell_type": "markdown",
   "id": "924d9c01-1f72-4c98-8e1d-d84ee6e8a293",
   "metadata": {
    "tags": []
   },
   "source": [
    "1. SymPy 1.10.1 documentation » [SymPy Tutorial](https://docs.sympy.org/latest/tutorial/index.html#tutorial) "
   ]
  },
  {
   "cell_type": "markdown",
   "id": "932b8e71-113c-4c6b-8121-33272a950ed3",
   "metadata": {},
   "source": []
  },
  {
   "cell_type": "code",
   "execution_count": null,
   "id": "85778d8b-81ad-4301-bde2-823689950021",
   "metadata": {},
   "outputs": [],
   "source": []
  }
 ],
 "metadata": {
  "kernelspec": {
   "display_name": "Python 3",
   "language": "python",
   "name": "python3"
  },
  "language_info": {
   "codemirror_mode": {
    "name": "ipython",
    "version": 3
   },
   "file_extension": ".py",
   "mimetype": "text/x-python",
   "name": "python",
   "nbconvert_exporter": "python",
   "pygments_lexer": "ipython3",
   "version": "3.8.8"
  }
 },
 "nbformat": 4,
 "nbformat_minor": 5
}
