{
 "cells": [
  {
   "cell_type": "markdown",
   "id": "df371b70-5c38-47b6-afa4-4b12b0c451da",
   "metadata": {},
   "source": [
    "---\n",
    "layout: post\n",
    "title: Design of Abutments\n",
    "categories: [Engineering, Bridge, Conrete]\n",
    "author: Fabio P. Figueiredo\n",
    "---"
   ]
  },
  {
   "cell_type": "code",
   "execution_count": null,
   "id": "689bf80f-db65-47dc-a732-2bc5352885da",
   "metadata": {},
   "outputs": [],
   "source": []
  },
  {
   "cell_type": "markdown",
   "id": "35efdc0b-f4bb-4746-97bd-0597c0e89a02",
   "metadata": {},
   "source": [
    "$$\n",
    "F_{c} = \\frac{\\eta \\cdot \\alpha_{cc} \\cdot f_{ck}}{\\gamma_{c}} \\cdot b \\cdot \\lambda \\cdot x \\tag{1}\n",
    "$$"
   ]
  },
  {
   "cell_type": "code",
   "execution_count": null,
   "id": "c2ef9c59-7b85-47eb-9ded-06153307e2c3",
   "metadata": {},
   "outputs": [],
   "source": [
    "g_deck = 163"
   ]
  }
 ],
 "metadata": {
  "kernelspec": {
   "display_name": "Python 3 (ipykernel)",
   "language": "python",
   "name": "python3"
  },
  "language_info": {
   "codemirror_mode": {
    "name": "ipython",
    "version": 3
   },
   "file_extension": ".py",
   "mimetype": "text/x-python",
   "name": "python",
   "nbconvert_exporter": "python",
   "pygments_lexer": "ipython3",
   "version": "3.9.13"
  }
 },
 "nbformat": 4,
 "nbformat_minor": 5
}
