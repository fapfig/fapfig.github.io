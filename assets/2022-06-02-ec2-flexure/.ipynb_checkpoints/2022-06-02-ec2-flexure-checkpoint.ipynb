{
 "cells": [
  {
   "cell_type": "markdown",
   "id": "45bf5ff7-5286-41e1-a557-3373df6395f3",
   "metadata": {},
   "source": [
    "[![section](\\assets\\2022-06-02-ec2-flexure\\section.png)](\\assets\\2022-06-02-ec2-flexure\\section.png){:.glightbox}"
   ]
  },
  {
   "cell_type": "markdown",
   "id": "7792377f-2474-434a-a21e-04c9f2cbd6f7",
   "metadata": {},
   "source": [
    "This article presents the equations for the design of rectangular concrete sections. The derived formulae are based on the simplified rectangular stress block from Eurocode 2. In determining the resistance of sections, the following assumptions are made.\n",
    "\n",
    "1. Plane sections remain plane.\n",
    "1. Strain in the bonded reinforcement, whether in tension or compression, is the same as that in the surrounding concrete.\n",
    "1. Tensile strength of the concrete is ignored.\n",
    "1. Stress distribution in the section is as shown in Figure 1.\n",
    "1. Stresses in reinforcement are derived from Figure 2."
   ]
  },
  {
   "cell_type": "markdown",
   "id": "9d5abee8-864a-4243-9ae3-c50cbf0e4706",
   "metadata": {},
   "source": [
    "[![steel](\\assets\\2022-06-02-ec2-flexure\\steel.png)](\\assets\\2022-06-02-ec2-flexure\\steel.png){:.glightbox}"
   ]
  },
  {
   "cell_type": "markdown",
   "id": "5212e292-7581-4f19-b359-561e6f1582e9",
   "metadata": {},
   "source": [
    "The forces in the compressive zone of the concrete and reinforcement are:\n",
    "\n",
    "$$\n",
    "F_{c} = \\frac{\\eta \\cdot \\alpha_{cc} \\cdot f_{ck}}{\\gamma_{c}} \\cdot b \\cdot \\lambda \\cdot x \\tag{1}\n",
    "$$\n",
    "\n",
    "$$\n",
    "F_{s} = A_{s} \\cdot f_{yk} \\tag{2}\n",
    "$$\n",
    "\n",
    "Take moments about the centre of the tension force: \n",
    "\n",
    "$$\n",
    "M = \\frac{\\eta \\cdot \\alpha_{cc} \\cdot f_{ck}}{\\gamma_{c}} \\cdot b \\cdot \\lambda \\cdot x \\cdot z \\tag{3}\n",
    "$$\n",
    "\n",
    "The lever arm is:\n",
    "\n",
    "$$\n",
    " z = d - \\frac{\\lambda \\cdot x}{2} \\tag{4}\n",
    "$$\n",
    "\n",
    "or:\n",
    "\n",
    "$$\n",
    " \\frac{z}{d} = 1 - 0.5 \\cdot \\frac{\\lambda \\cdot x}{d} = 1 - 0.5 \\cdot \\alpha \\tag{5}\n",
    "$$\n",
    "\n",
    "\n",
    "Substituting (4) in (3) gives:\n",
    " \n",
    "$$\n",
    "M = \\frac{\\eta \\cdot \\alpha_{cc} \\cdot f_{ck}}{\\gamma_{c}} \\cdot b \\cdot \\lambda \\cdot x \\cdot \\left (d - \\frac{\\lambda \\cdot x}{2}\\right ) \\tag{6}\n",
    "$$\n",
    "\n",
    "Rearranging (6):\n",
    "$$\n",
    "\\frac{M \\cdot \\gamma_{c}}{\\eta \\cdot \\alpha_{cc} \\cdot f_{ck} \\cdot b} = \\lambda \\cdot x \\cdot \\left (d - \\frac{\\lambda \\cdot x}{2}\\right )  \\tag{7}\n",
    "$$\n",
    "\n",
    "$$\n",
    "\\frac{M \\cdot \\gamma_{c}}{\\eta \\cdot \\alpha_{cc} \\cdot f_{ck} \\cdot b} = \\lambda \\cdot x \\cdot d  - \\frac{ \\left( \\lambda \\cdot x \\right)^{2}}{2} \\tag{8}\n",
    "$$\n",
    "\n",
    "Dividing (8) by $d^2$\n",
    "$$\n",
    "\\frac{M \\cdot \\gamma_{c}}{\\eta \\cdot \\alpha_{cc} \\cdot f_{ck} \\cdot b \\cdot d^2} = \\frac{\\lambda \\cdot x}{d} - \\frac{1}{2} \\cdot \\left(\\frac{ \\lambda \\cdot x}{d}\\right) ^{2}  \\tag{9}\n",
    "$$\n",
    "\n",
    "Defining:\n",
    "$$\n",
    "k = \\frac{M}{f_{ck} \\cdot b \\cdot d^2} \\tag{10}\n",
    "$$\n",
    "\n",
    "and:\n",
    "\n",
    "$$\n",
    "\\beta = \\frac{2 \\cdot \\gamma_{c}}{\\eta \\cdot \\alpha_{cc}} \\tag{11}\n",
    "$$\n",
    "\n",
    "We can write (9) as:\n",
    "$$\n",
    "\\alpha^2 - 2 \\cdot \\alpha + \\beta \\cdot k \\tag{12}\n",
    "$$\n",
    "\n",
    "Solving the quadratic equation (12):\n",
    "\n",
    "$$\n",
    "\\alpha = 1 - \\sqrt{1 - \\beta \\cdot k } \\tag{13}\n",
    "$$\n",
    "\n",
    "Then, we can calculate the lever arm $(z)$ for an applied moment by submitting (13) in (5):\n",
    "\n",
    "\n",
    "$$\n",
    "  \\frac{z}{d} =  1 - 0.5 \\cdot \\left (  1 - \\sqrt{1 - \\beta \\cdot k } \\right ) =  0.5 \\cdot \\left (  1 + \\sqrt{1 - \\beta \\cdot k } \\right )\\tag{14}\n",
    "$$\n",
    "\n",
    "$$\n",
    "z = 0.5 \\cdot d \\cdot \\left (  1 + \\sqrt{1 - \\beta \\cdot k } \\right ) \\tag{15}\n",
    "$$\n",
    "\n",
    "Take moments about the centre of the compression force:\n",
    "\n",
    "$$\n",
    "M = A_{s} \\cdot f_{yk} \\cdot z \\tag{16}\n",
    "$$\n",
    "\n",
    "Rearranging (16):\n",
    "\n",
    "$$\n",
    "A_{s} = \\frac{M}{f_{yk} \\cdot z } \\tag{17}\n",
    "$$\n"
   ]
  },
  {
   "cell_type": "markdown",
   "id": "ec176cd6-fca6-40cc-9d90-f8dcabbae3b4",
   "metadata": {},
   "source": [
    "## References\n",
    "\n",
    "1. British Standards Institution. BS EN 1992-1-1 : 1992, Eurocode 2: Design of concrete structures, Part 1, General rules for buildings, BSI, 2004.\n"
   ]
  }
 ],
 "metadata": {
  "kernelspec": {
   "display_name": "Python 3",
   "language": "python",
   "name": "python3"
  },
  "language_info": {
   "codemirror_mode": {
    "name": "ipython",
    "version": 3
   },
   "file_extension": ".py",
   "mimetype": "text/x-python",
   "name": "python",
   "nbconvert_exporter": "python",
   "pygments_lexer": "ipython3",
   "version": "3.8.8"
  }
 },
 "nbformat": 4,
 "nbformat_minor": 5
}
